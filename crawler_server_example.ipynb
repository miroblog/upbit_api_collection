{
 "cells": [
  {
   "cell_type": "code",
   "execution_count": 1,
   "metadata": {
    "collapsed": true
   },
   "outputs": [],
   "source": [
    "from crawler_server import *\n",
    "import matplotlib.pyplot as plt"
   ]
  },
  {
   "cell_type": "code",
   "execution_count": 2,
   "metadata": {
    "collapsed": true
   },
   "outputs": [],
   "source": [
    "TARGET_NAME = \"KRW-BTC\"\n",
    "UPBIT_PERIOD = 5\n",
    "UPBIT_COUNT = 400 # fetch 400 candles per request\n",
    "DATA_PATH = \"./data/\" # where to save\n",
    "DATA_LENGTH = 2400 # total length"
   ]
  },
  {
   "cell_type": "code",
   "execution_count": 3,
   "metadata": {
    "collapsed": false
   },
   "outputs": [
    {
     "name": "stdout",
     "output_type": "stream",
     "text": [
      "KRW-BTC : 200\n",
      "KRW-BTC : 400\n",
      "KRW-BTC : 600\n",
      "KRW-BTC : 800\n",
      "KRW-BTC : 1000\n",
      "KRW-BTC : 1200\n",
      "KRW-BTC : 1400\n",
      "KRW-BTC : 1600\n",
      "KRW-BTC : 1800\n",
      "KRW-BTC : 2000\n",
      "KRW-BTC : 2200\n",
      "KRW-BTC : 2400\n"
     ]
    }
   ],
   "source": [
    "to = dt.datetime.now().strftime(\"%Y-%m-%d %H:%M:%S\")\n",
    "df = pd.DataFrame()\n",
    "while (len(df.index) < DATA_LENGTH):\n",
    "    data = get_candle_data(\"{0}\".format(TARGET_NAME), UPBIT_PERIOD, to, UPBIT_COUNT)\n",
    "    df = df.append(data, ignore_index=True)\n",
    "    df.drop_duplicates(subset=['candle_date_time_utc'], keep='first', inplace=True)\n",
    "    next_to = upbit_get_next_to(df.tail(1))\n",
    "    k = -1\n",
    "    while (next_to is None):\n",
    "        next_to = upbit_get_next_to(df.iloc[k - 1:k])\n",
    "        k -= 10\n",
    "    to = next_to\n",
    "    print(\"{0} : {1}\".format(TARGET_NAME, len(df.index)))\n",
    "result = df.reindex(index=df.index[::-1])\n",
    "file_suffix = str(UPBIT_PERIOD) + \"_\" + str(len(df.index)) + \".csv\"\n",
    "result = rename_col(result)\n",
    "result.to_csv(DATA_PATH + TARGET_NAME + \"_\" + file_suffix, index=False)"
   ]
  },
  {
   "cell_type": "code",
   "execution_count": 4,
   "metadata": {
    "collapsed": false
   },
   "outputs": [
    {
     "data": {
      "text/html": [
       "<div>\n",
       "<style scoped>\n",
       "    .dataframe tbody tr th:only-of-type {\n",
       "        vertical-align: middle;\n",
       "    }\n",
       "\n",
       "    .dataframe tbody tr th {\n",
       "        vertical-align: top;\n",
       "    }\n",
       "\n",
       "    .dataframe thead th {\n",
       "        text-align: right;\n",
       "    }\n",
       "</style>\n",
       "<table border=\"1\" class=\"dataframe\">\n",
       "  <thead>\n",
       "    <tr style=\"text-align: right;\">\n",
       "      <th></th>\n",
       "      <th>datetime</th>\n",
       "      <th>open</th>\n",
       "      <th>high</th>\n",
       "      <th>low</th>\n",
       "      <th>close</th>\n",
       "      <th>volume</th>\n",
       "    </tr>\n",
       "  </thead>\n",
       "  <tbody>\n",
       "    <tr>\n",
       "      <th>9</th>\n",
       "      <td>2018-08-22T09:15:00</td>\n",
       "      <td>7607000.0</td>\n",
       "      <td>7619000.0</td>\n",
       "      <td>7607000.0</td>\n",
       "      <td>7616000.0</td>\n",
       "      <td>19.683772</td>\n",
       "    </tr>\n",
       "    <tr>\n",
       "      <th>8</th>\n",
       "      <td>2018-08-22T09:20:00</td>\n",
       "      <td>7619000.0</td>\n",
       "      <td>7622000.0</td>\n",
       "      <td>7611000.0</td>\n",
       "      <td>7611000.0</td>\n",
       "      <td>10.243476</td>\n",
       "    </tr>\n",
       "    <tr>\n",
       "      <th>7</th>\n",
       "      <td>2018-08-22T09:25:00</td>\n",
       "      <td>7609000.0</td>\n",
       "      <td>7611000.0</td>\n",
       "      <td>7590000.0</td>\n",
       "      <td>7594000.0</td>\n",
       "      <td>25.334803</td>\n",
       "    </tr>\n",
       "    <tr>\n",
       "      <th>6</th>\n",
       "      <td>2018-08-22T09:30:00</td>\n",
       "      <td>7594000.0</td>\n",
       "      <td>7598000.0</td>\n",
       "      <td>7590000.0</td>\n",
       "      <td>7595000.0</td>\n",
       "      <td>6.889311</td>\n",
       "    </tr>\n",
       "    <tr>\n",
       "      <th>5</th>\n",
       "      <td>2018-08-22T09:35:00</td>\n",
       "      <td>7590000.0</td>\n",
       "      <td>7611000.0</td>\n",
       "      <td>7590000.0</td>\n",
       "      <td>7602000.0</td>\n",
       "      <td>13.604119</td>\n",
       "    </tr>\n",
       "    <tr>\n",
       "      <th>4</th>\n",
       "      <td>2018-08-22T09:40:00</td>\n",
       "      <td>7602000.0</td>\n",
       "      <td>7607000.0</td>\n",
       "      <td>7595000.0</td>\n",
       "      <td>7604000.0</td>\n",
       "      <td>7.221980</td>\n",
       "    </tr>\n",
       "    <tr>\n",
       "      <th>3</th>\n",
       "      <td>2018-08-22T09:45:00</td>\n",
       "      <td>7604000.0</td>\n",
       "      <td>7607000.0</td>\n",
       "      <td>7600000.0</td>\n",
       "      <td>7602000.0</td>\n",
       "      <td>7.744314</td>\n",
       "    </tr>\n",
       "    <tr>\n",
       "      <th>2</th>\n",
       "      <td>2018-08-22T09:50:00</td>\n",
       "      <td>7602000.0</td>\n",
       "      <td>7602000.0</td>\n",
       "      <td>7590000.0</td>\n",
       "      <td>7596000.0</td>\n",
       "      <td>11.552208</td>\n",
       "    </tr>\n",
       "    <tr>\n",
       "      <th>1</th>\n",
       "      <td>2018-08-22T09:55:00</td>\n",
       "      <td>7597000.0</td>\n",
       "      <td>7597000.0</td>\n",
       "      <td>7577000.0</td>\n",
       "      <td>7586000.0</td>\n",
       "      <td>21.164023</td>\n",
       "    </tr>\n",
       "    <tr>\n",
       "      <th>0</th>\n",
       "      <td>2018-08-22T10:00:00</td>\n",
       "      <td>7585000.0</td>\n",
       "      <td>7590000.0</td>\n",
       "      <td>7576000.0</td>\n",
       "      <td>7590000.0</td>\n",
       "      <td>7.288116</td>\n",
       "    </tr>\n",
       "  </tbody>\n",
       "</table>\n",
       "</div>"
      ],
      "text/plain": [
       "              datetime       open       high        low      close     volume\n",
       "9  2018-08-22T09:15:00  7607000.0  7619000.0  7607000.0  7616000.0  19.683772\n",
       "8  2018-08-22T09:20:00  7619000.0  7622000.0  7611000.0  7611000.0  10.243476\n",
       "7  2018-08-22T09:25:00  7609000.0  7611000.0  7590000.0  7594000.0  25.334803\n",
       "6  2018-08-22T09:30:00  7594000.0  7598000.0  7590000.0  7595000.0   6.889311\n",
       "5  2018-08-22T09:35:00  7590000.0  7611000.0  7590000.0  7602000.0  13.604119\n",
       "4  2018-08-22T09:40:00  7602000.0  7607000.0  7595000.0  7604000.0   7.221980\n",
       "3  2018-08-22T09:45:00  7604000.0  7607000.0  7600000.0  7602000.0   7.744314\n",
       "2  2018-08-22T09:50:00  7602000.0  7602000.0  7590000.0  7596000.0  11.552208\n",
       "1  2018-08-22T09:55:00  7597000.0  7597000.0  7577000.0  7586000.0  21.164023\n",
       "0  2018-08-22T10:00:00  7585000.0  7590000.0  7576000.0  7590000.0   7.288116"
      ]
     },
     "execution_count": 4,
     "metadata": {},
     "output_type": "execute_result"
    }
   ],
   "source": [
    "result[-10:]"
   ]
  },
  {
   "cell_type": "code",
   "execution_count": 9,
   "metadata": {
    "collapsed": false
   },
   "outputs": [
    {
     "data": {
      "image/png": "[encoded data removed]",
      "text/plain": [
       "<Figure size 432x288 with 1 Axes>"
      ]
     },
     "metadata": {},
     "output_type": "display_data"
    }
   ],
   "source": [
    "result['close'].plot(color='g')\n",
    "plt.show()"
   ]
  },
  {
   "cell_type": "code",
   "execution_count": 6,
   "metadata": {
    "collapsed": false
   },
   "outputs": [
    {
     "data": {
      "image/png": "[encoded data removed]",
      "text/plain": [
       "<Figure size 432x288 with 1 Axes>"
      ]
     },
     "metadata": {},
     "output_type": "display_data"
    }
   ],
   "source": [
    "from mpl_finance import candlestick_ohlc\n",
    "import matplotlib.dates as mdates\n",
    "\n",
    "# plot ohlc candle\n",
    "df_ohlc = result[['datetime', 'open', 'high', 'low', 'close', 'volume']]\n",
    "\n",
    "## convert date format so that matplotlib understands\n",
    "df_ohlc['datetime'] = pd.to_datetime(df_ohlc['datetime'])\n",
    "df_ohlc['datetime'] = df_ohlc['datetime'].map(mdates.date2num)\n",
    "\n",
    "\n",
    "\n",
    "# make figure, plot\n",
    "fig = plt.figure()\n",
    "ax1 = plt.subplot2grid((4, 2), (0, 0), rowspan=5, colspan=2)  # Map subplots for graph\n",
    "ax1.xaxis_date()  # Treat x-axis as dates\n",
    "\n",
    "show_limit = 20 # plot latest 20 candles\n",
    "candlestick_ohlc(ax1, df_ohlc.values[-show_limit:], width=0.001, colorup='g')\n",
    "plt.show()"
   ]
  }
 ],
 "metadata": {
  "kernelspec": {
   "display_name": "Python 3",
   "language": "python",
   "name": "python3"
  },
  "language_info": {
   "codemirror_mode": {
    "name": "ipython",
    "version": 3.0
   },
   "file_extension": ".py",
   "mimetype": "text/x-python",
   "name": "python",
   "nbconvert_exporter": "python",
   "pygments_lexer": "ipython3",
   "version": "3.6.6"
  }
 },
 "nbformat": 4,
 "nbformat_minor": 0
}