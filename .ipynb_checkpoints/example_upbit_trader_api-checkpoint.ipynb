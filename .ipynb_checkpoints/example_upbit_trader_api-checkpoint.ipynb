{
 "cells": [
  {
   "cell_type": "code",
   "execution_count": 1,
   "metadata": {
    "collapsed": true
   },
   "outputs": [],
   "source": [
    "import upbit_trader_api\n",
    "import pandas as pd\n",
    "import numpy as np"
   ]
  },
  {
   "cell_type": "code",
   "execution_count": 2,
   "metadata": {
    "collapsed": false
   },
   "outputs": [
    {
     "name": "stdout",
     "output_type": "stream",
     "text": [
      "['ACCESS_KEY', 'JWTAuth', 'RETRY', 'SECRET_KEY', '__builtins__', '__cached__', '__doc__', '__file__', '__loader__', '__name__', '__package__', '__spec__', 'calculate_volume', 'cancel_order', 'create_order', 'current_milli_time', 'get_account_info', 'get_candle_data', 'get_chance_info', 'get_current_tick', 'get_current_ticker', 'get_headers', 'get_market_code', 'get_order_info', 'get_order_list', 'get_orderbook_info', 'json', 'json_normalize', 'jwt', 'math', 'requests', 'time', 'urlencode']\n"
     ]
    }
   ],
   "source": [
    "print(dir(upbit_trader_api))"
   ]
  },
  {
   "cell_type": "code",
   "execution_count": 3,
   "metadata": {
    "collapsed": false
   },
   "outputs": [
    {
     "data": {
      "text/plain": [
       "[{'english_name': 'Bitcoin', 'korean_name': '비트코인', 'market': 'KRW-BTC'},\n",
       " {'english_name': 'Dash', 'korean_name': '대시', 'market': 'KRW-DASH'},\n",
       " {'english_name': 'Ethereum', 'korean_name': '이더리움', 'market': 'KRW-ETH'}]"
      ]
     },
     "execution_count": 3,
     "metadata": {},
     "output_type": "execute_result"
    }
   ],
   "source": [
    "upbit_trader_api.get_market_code()[0:3]"
   ]
  },
  {
   "cell_type": "code",
   "execution_count": 4,
   "metadata": {
    "collapsed": false
   },
   "outputs": [
    {
     "data": {
      "text/html": [
       "<div>\n",
       "<style scoped>\n",
       "    .dataframe tbody tr th:only-of-type {\n",
       "        vertical-align: middle;\n",
       "    }\n",
       "\n",
       "    .dataframe tbody tr th {\n",
       "        vertical-align: top;\n",
       "    }\n",
       "\n",
       "    .dataframe thead th {\n",
       "        text-align: right;\n",
       "    }\n",
       "</style>\n",
       "<table border=\"1\" class=\"dataframe\">\n",
       "  <thead>\n",
       "    <tr style=\"text-align: right;\">\n",
       "      <th></th>\n",
       "      <th>candle_acc_trade_price</th>\n",
       "      <th>candle_acc_trade_volume</th>\n",
       "      <th>candle_date_time_kst</th>\n",
       "      <th>candle_date_time_utc</th>\n",
       "      <th>high_price</th>\n",
       "      <th>low_price</th>\n",
       "      <th>market</th>\n",
       "      <th>opening_price</th>\n",
       "      <th>timestamp</th>\n",
       "      <th>trade_price</th>\n",
       "      <th>unit</th>\n",
       "    </tr>\n",
       "  </thead>\n",
       "  <tbody>\n",
       "    <tr>\n",
       "      <th>0</th>\n",
       "      <td>1.224803e+08</td>\n",
       "      <td>16.195165</td>\n",
       "      <td>2018-08-22T17:00:00</td>\n",
       "      <td>2018-08-22T08:00:00</td>\n",
       "      <td>7577000.0</td>\n",
       "      <td>7558000.0</td>\n",
       "      <td>KRW-BTC</td>\n",
       "      <td>7563000.0</td>\n",
       "      <td>1534925025178</td>\n",
       "      <td>7573000.0</td>\n",
       "      <td>5</td>\n",
       "    </tr>\n",
       "    <tr>\n",
       "      <th>1</th>\n",
       "      <td>2.499858e+08</td>\n",
       "      <td>33.042804</td>\n",
       "      <td>2018-08-22T16:55:00</td>\n",
       "      <td>2018-08-22T07:55:00</td>\n",
       "      <td>7587000.0</td>\n",
       "      <td>7553000.0</td>\n",
       "      <td>KRW-BTC</td>\n",
       "      <td>7580000.0</td>\n",
       "      <td>1534924800103</td>\n",
       "      <td>7562000.0</td>\n",
       "      <td>5</td>\n",
       "    </tr>\n",
       "    <tr>\n",
       "      <th>2</th>\n",
       "      <td>5.924413e+07</td>\n",
       "      <td>7.809776</td>\n",
       "      <td>2018-08-22T16:50:00</td>\n",
       "      <td>2018-08-22T07:50:00</td>\n",
       "      <td>7596000.0</td>\n",
       "      <td>7580000.0</td>\n",
       "      <td>KRW-BTC</td>\n",
       "      <td>7586000.0</td>\n",
       "      <td>1534924492020</td>\n",
       "      <td>7586000.0</td>\n",
       "      <td>5</td>\n",
       "    </tr>\n",
       "    <tr>\n",
       "      <th>3</th>\n",
       "      <td>8.032681e+07</td>\n",
       "      <td>10.582477</td>\n",
       "      <td>2018-08-22T16:45:00</td>\n",
       "      <td>2018-08-22T07:45:00</td>\n",
       "      <td>7599000.0</td>\n",
       "      <td>7585000.0</td>\n",
       "      <td>KRW-BTC</td>\n",
       "      <td>7598000.0</td>\n",
       "      <td>1534924193208</td>\n",
       "      <td>7585000.0</td>\n",
       "      <td>5</td>\n",
       "    </tr>\n",
       "    <tr>\n",
       "      <th>4</th>\n",
       "      <td>1.335216e+08</td>\n",
       "      <td>17.587891</td>\n",
       "      <td>2018-08-22T16:40:00</td>\n",
       "      <td>2018-08-22T07:40:00</td>\n",
       "      <td>7604000.0</td>\n",
       "      <td>7579000.0</td>\n",
       "      <td>KRW-BTC</td>\n",
       "      <td>7580000.0</td>\n",
       "      <td>1534923897476</td>\n",
       "      <td>7598000.0</td>\n",
       "      <td>5</td>\n",
       "    </tr>\n",
       "  </tbody>\n",
       "</table>\n",
       "</div>"
      ],
      "text/plain": [
       "<div>\n",
       "<style scoped>\n",
       "    .dataframe tbody tr th:only-of-type {\n",
       "        vertical-align: middle;\n",
       "    }\n",
       "\n",
       "    .dataframe tbody tr th {\n",
       "        vertical-align: top;\n",
       "    }\n",
       "\n",
       "    .dataframe thead th {\n",
       "        text-align: right;\n",
       "    }\n",
       "</style>\n",
       "<table border=\"1\" class=\"dataframe\">\n",
       "  <thead>\n",
       "    <tr style=\"text-align: right;\">\n",
       "      <th></th>\n",
       "      <th>candle_acc_trade_price</th>\n",
       "      <th>candle_acc_trade_volume</th>\n",
       "      <th>candle_date_time_kst</th>\n",
       "      <th>candle_date_time_utc</th>\n",
       "      <th>high_price</th>\n",
       "      <th>low_price</th>\n",
       "      <th>market</th>\n",
       "      <th>opening_price</th>\n",
       "      <th>timestamp</th>\n",
       "      <th>trade_price</th>\n",
       "      <th>unit</th>\n",
       "    </tr>\n",
       "  </thead>\n",
       "  <tbody>\n",
       "    <tr>\n",
       "      <th>0</th>\n",
       "      <td>1.224803e+08</td>\n",
       "      <td>16.195165</td>\n",
       "      <td>2018-08-22T17:00:00</td>\n",
       "      <td>2018-08-22T08:00:00</td>\n",
       "      <td>7577000.0</td>\n",
       "      <td>7558000.0</td>\n",
       "      <td>KRW-BTC</td>\n",
       "      <td>7563000.0</td>\n",
       "      <td>1534925025178</td>\n",
       "      <td>7573000.0</td>\n",
       "      <td>5</td>\n",
       "    </tr>\n",
       "    <tr>\n",
       "      <th>1</th>\n",
       "      <td>2.499858e+08</td>\n",
       "      <td>33.042804</td>\n",
       "      <td>2018-08-22T16:55:00</td>\n",
       "      <td>2018-08-22T07:55:00</td>\n",
       "      <td>7587000.0</td>\n",
       "      <td>7553000.0</td>\n",
       "      <td>KRW-BTC</td>\n",
       "      <td>7580000.0</td>\n",
       "      <td>1534924800103</td>\n",
       "      <td>7562000.0</td>\n",
       "      <td>5</td>\n",
       "    </tr>\n",
       "    <tr>\n",
       "      <th>2</th>\n",
       "      <td>5.924413e+07</td>\n",
       "      <td>7.809776</td>\n",
       "      <td>2018-08-22T16:50:00</td>\n",
       "      <td>2018-08-22T07:50:00</td>\n",
       "      <td>7596000.0</td>\n",
       "      <td>7580000.0</td>\n",
       "      <td>KRW-BTC</td>\n",
       "      <td>7586000.0</td>\n",
       "      <td>1534924492020</td>\n",
       "      <td>7586000.0</td>\n",
       "      <td>5</td>\n",
       "    </tr>\n",
       "    <tr>\n",
       "      <th>3</th>\n",
       "      <td>8.032681e+07</td>\n",
       "      <td>10.582477</td>\n",
       "      <td>2018-08-22T16:45:00</td>\n",
       "      <td>2018-08-22T07:45:00</td>\n",
       "      <td>7599000.0</td>\n",
       "      <td>7585000.0</td>\n",
       "      <td>KRW-BTC</td>\n",
       "      <td>7598000.0</td>\n",
       "      <td>1534924193208</td>\n",
       "      <td>7585000.0</td>\n",
       "      <td>5</td>\n",
       "    </tr>\n",
       "    <tr>\n",
       "      <th>4</th>\n",
       "      <td>1.335216e+08</td>\n",
       "      <td>17.587891</td>\n",
       "      <td>2018-08-22T16:40:00</td>\n",
       "      <td>2018-08-22T07:40:00</td>\n",
       "      <td>7604000.0</td>\n",
       "      <td>7579000.0</td>\n",
       "      <td>KRW-BTC</td>\n",
       "      <td>7580000.0</td>\n",
       "      <td>1534923897476</td>\n",
       "      <td>7598000.0</td>\n",
       "      <td>5</td>\n",
       "    </tr>\n",
       "  </tbody>\n",
       "</table>\n",
       "</div>"
      ]
     },
     "execution_count": 4,
     "metadata": {},
     "output_type": "execute_result"
    }
   ],
   "source": [
    "upbit_trader_api.get_candle_data(\"KRW-BTC\", 5, None, \"5\")"
   ]
  },
  {
   "cell_type": "code",
   "execution_count": 5,
   "metadata": {
    "collapsed": false
   },
   "outputs": [
    {
     "data": {
      "text/plain": [
       "{'market': 'KRW-BTC',\n",
       " 'orderbook_units': [{'ask_price': 7574000.0,\n",
       "   'ask_size': 2.1,\n",
       "   'bid_price': 7565000.0,\n",
       "   'bid_size': 0.93989791},\n",
       "  {'ask_price': 7575000.0,\n",
       "   'ask_size': 0.1,\n",
       "   'bid_price': 7564000.0,\n",
       "   'bid_size': 1.23977888},\n",
       "  {'ask_price': 7577000.0,\n",
       "   'ask_size': 0.88290843,\n",
       "   'bid_price': 7561000.0,\n",
       "   'bid_size': 0.1206487},\n",
       "  {'ask_price': 7578000.0,\n",
       "   'ask_size': 0.1,\n",
       "   'bid_price': 7560000.0,\n",
       "   'bid_size': 1.271049},\n",
       "  {'ask_price': 7579000.0,\n",
       "   'ask_size': 0.38897137,\n",
       "   'bid_price': 7559000.0,\n",
       "   'bid_size': 0.26909456},\n",
       "  {'ask_price': 7582000.0,\n",
       "   'ask_size': 0.64828892,\n",
       "   'bid_price': 7558000.0,\n",
       "   'bid_size': 0.00066941},\n",
       "  {'ask_price': 7591000.0,\n",
       "   'ask_size': 0.02665483,\n",
       "   'bid_price': 7557000.0,\n",
       "   'bid_size': 0.80070639},\n",
       "  {'ask_price': 7594000.0,\n",
       "   'ask_size': 0.02684693,\n",
       "   'bid_price': 7555000.0,\n",
       "   'bid_size': 0.01},\n",
       "  {'ask_price': 7595000.0,\n",
       "   'ask_size': 0.64952927,\n",
       "   'bid_price': 7554000.0,\n",
       "   'bid_size': 0.73461857},\n",
       "  {'ask_price': 7597000.0,\n",
       "   'ask_size': 0.143,\n",
       "   'bid_price': 7553000.0,\n",
       "   'bid_size': 0.88943147}],\n",
       " 'timestamp': 1534925029154,\n",
       " 'total_ask_size': 5.06619975,\n",
       " 'total_bid_size': 6.27589489}"
      ]
     },
     "execution_count": 5,
     "metadata": {},
     "output_type": "execute_result"
    }
   ],
   "source": [
    "upbit_trader_api.get_orderbook_info(\"KRW-BTC\")"
   ]
  },
  {
   "cell_type": "code",
   "execution_count": null,
   "metadata": {
    "collapsed": true
   },
   "outputs": [],
   "source": [
    "# need api keys for request order(buy, sell)/ cancel order/ order status\n",
    "upbit_trader_api.ACCESS_KEY = \"\"\n",
    "upbit_trader_api.SECRET_KEY = \"\"\n",
    "\n",
    "# this is example u should \n",
    "price = 7300000\n",
    "volume = 1.0\n",
    "# buy request\n",
    "uuid = upbit_trader_api.create_order(market=\"KRW-BTC\", side='bid', price=price, volume=volume)\n",
    "# sell request\n",
    "uuid = upbit_trader_api.create_order(market=\"KRW-BTC\", side='ask', price=price, volume=volume)\n",
    "# cancel order\n",
    "upbit_trader_api.cancel_order(uuid)\n",
    "# check order status\n",
    "upbit_trader_api.get_order_info(uuid)"
   ]
  }
 ],
 "metadata": {
  "kernelspec": {
   "display_name": "Python 3",
   "language": "python",
   "name": "python3"
  },
  "language_info": {
   "codemirror_mode": {
    "name": "ipython",
    "version": 3
   },
   "file_extension": ".py",
   "mimetype": "text/x-python",
   "name": "python",
   "nbconvert_exporter": "python",
   "pygments_lexer": "ipython3",
   "version": "3.6.6"
  }
 },
 "nbformat": 4,
 "nbformat_minor": 0
}
